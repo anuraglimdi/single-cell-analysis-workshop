{
 "cells": [
  {
   "cell_type": "markdown",
   "id": "362edc9d",
   "metadata": {},
   "source": [
    "### Preprocessing single cell expression data\n",
    "\n",
    "Dataset: embryoid body single cell RNA seq over developmental time (https://data.mendeley.com/datasets/v6n743h5ng/)"
   ]
  },
  {
   "cell_type": "code",
   "execution_count": 12,
   "id": "29c1d6ee",
   "metadata": {},
   "outputs": [],
   "source": [
    "import os\n",
    "import scprep\n",
    "import tasklogger\n",
    "import pandas as pd\n",
    "import numpy as np\n",
    "import matplotlib.pyplot as plt\n",
    "import seaborn as sns"
   ]
  },
  {
   "cell_type": "code",
   "execution_count": 2,
   "id": "60921bc7",
   "metadata": {},
   "outputs": [],
   "source": [
    "import pickle"
   ]
  },
  {
   "cell_type": "code",
   "execution_count": 3,
   "id": "347ef929",
   "metadata": {},
   "outputs": [],
   "source": [
    "data_path = '/Users/anuraglimdi/Desktop/Single_cell_workshop/Datasets/embryoid/'"
   ]
  },
  {
   "cell_type": "code",
   "execution_count": 14,
   "id": "ce2f12d5",
   "metadata": {},
   "outputs": [],
   "source": [
    "sns.set_theme()\n",
    "sns.set_style('ticks')"
   ]
  },
  {
   "cell_type": "markdown",
   "id": "587fc497",
   "metadata": {},
   "source": [
    "### Loading the data\n",
    "\n",
    "Using the scprep to handle inputs."
   ]
  },
  {
   "cell_type": "code",
   "execution_count": 7,
   "id": "93323f6c",
   "metadata": {},
   "outputs": [
    {
     "name": "stdout",
     "output_type": "stream",
     "text": [
      "Calculating dense...\n",
      "Calculated dense in 8.23 seconds.\n",
      "Size: 1196.1MB\n"
     ]
    }
   ],
   "source": [
    "# loading data as a dense dataframe\n",
    "#using tasklogger to track how long it takes to load the data\n",
    "with tasklogger.log_task(\"dense\"):\n",
    "    data_t1 = scprep.io.load_10X(os.path.join(data_path, \"scRNAseq\", \"T0_1A\"),\n",
    "                                    sparse=False, gene_labels='both')\n",
    "\n",
    "# measure the size of the matrix with pickle\n",
    "print(\"Size: {:.1f}MB\".format(len(pickle.dumps(data_t1)) / 1024**2))"
   ]
  },
  {
   "cell_type": "code",
   "execution_count": 8,
   "id": "76f545ed",
   "metadata": {},
   "outputs": [
    {
     "name": "stdout",
     "output_type": "stream",
     "text": [
      "Calculating sparse...\n",
      "Calculated sparse in 7.60 seconds.\n",
      "Size: 115.6MB\n"
     ]
    }
   ],
   "source": [
    "# loading data as a sparse dataframe\n",
    "#using tasklogger to track how long it takes to load the data\n",
    "with tasklogger.log_task(\"sparse\"):\n",
    "    data_t1 = scprep.io.load_10X(os.path.join(data_path, \"scRNAseq\", \"T0_1A\"),\n",
    "                                    sparse=True, gene_labels='both')\n",
    "\n",
    "# measure the size of the matrix with pickle\n",
    "print(\"Size: {:.1f}MB\".format(len(pickle.dumps(data_t1)) / 1024**2))"
   ]
  },
  {
   "cell_type": "markdown",
   "id": "5747a821",
   "metadata": {},
   "source": [
    "Turns out that the data is very sparse; most genes have zero transcripts in most cells, so a sparse representation turns out to be more efficient."
   ]
  },
  {
   "cell_type": "code",
   "execution_count": 11,
   "id": "14556594",
   "metadata": {},
   "outputs": [],
   "source": [
    "# loading the full dataset\n",
    "sparse=True\n",
    "data_time1 = scprep.io.load_10X(os.path.join(data_path, \"scRNAseq\", \"T0_1A\"), sparse=sparse, gene_labels='both')\n",
    "data_time2 = scprep.io.load_10X(os.path.join(data_path, \"scRNAseq\", \"T2_3B\"), sparse=sparse, gene_labels='both')\n",
    "data_time3 = scprep.io.load_10X(os.path.join(data_path, \"scRNAseq\", \"T4_5C\"), sparse=sparse, gene_labels='both')\n",
    "data_time4 = scprep.io.load_10X(os.path.join(data_path, \"scRNAseq\", \"T6_7D\"), sparse=sparse, gene_labels='both')\n",
    "data_time5 = scprep.io.load_10X(os.path.join(data_path, \"scRNAseq\", \"T8_9E\"), sparse=sparse, gene_labels='both')"
   ]
  },
  {
   "cell_type": "code",
   "execution_count": 16,
   "id": "232f833f",
   "metadata": {},
   "outputs": [
    {
     "data": {
      "text/plain": [
       "(4649,)"
      ]
     },
     "execution_count": 16,
     "metadata": {},
     "output_type": "execute_result"
    }
   ],
   "source": [
    "np.shape(np.sum(data_time1,axis=1))"
   ]
  },
  {
   "cell_type": "markdown",
   "id": "bda9a2e5",
   "metadata": {},
   "source": [
    "### Library size\n",
    "\n",
    "Due to the random nature of loading droplet with cells, not all of them will have exactly one cell (in fact this should follow a Poisson distribution). We therefore need to exclude droplets that we think correspond to doublets and empty cells."
   ]
  },
  {
   "cell_type": "code",
   "execution_count": 18,
   "id": "c87233d5",
   "metadata": {},
   "outputs": [
    {
     "data": {
      "image/png": "[encoded data removed]",
      "text/plain": [
       "<Figure size 432x288 with 1 Axes>"
      ]
     },
     "metadata": {},
     "output_type": "display_data"
    }
   ],
   "source": [
    "##library size for the first timepoint\n",
    "plt.hist(np.sum(data_time1,axis=1), bins=np.linspace(0,25000,100))\n",
    "plt.title('Distribution of number of UMIs per droplet')\n",
    "sns.despine()"
   ]
  },
  {
   "cell_type": "markdown",
   "id": "587cf03d",
   "metadata": {},
   "source": [
    "While some variation is expected (in terms of number of transcripts per cell), it is likely that the right tail of this distribution would correspond to doublets/triplets etc."
   ]
  },
  {
   "cell_type": "code",
   "execution_count": 20,
   "id": "de670eaf",
   "metadata": {},
   "outputs": [],
   "source": [
    "filtered_data = []\n",
    "for batch in [data_time1, data_time2, data_time3, data_time4, data_time5]:\n",
    "    percentiles = (15, 85)\n",
    "    #using the scprep function instead of writing a new function by myself\n",
    "    batch = scprep.filter.filter_library_size(batch, percentile=percentiles)\n",
    "    filtered_data.append(batch)"
   ]
  },
  {
   "cell_type": "code",
   "execution_count": 21,
   "id": "173e47e5",
   "metadata": {},
   "outputs": [],
   "source": [
    "del data_time1, data_time2, data_time3, data_time4, data_time5 # remove originally loaded data"
   ]
  },
  {
   "cell_type": "code",
   "execution_count": 22,
   "id": "39141bb4",
   "metadata": {},
   "outputs": [],
   "source": [
    "data, sample_labels = scprep.utils.combine_batches(\n",
    "    filtered_data, \n",
    "    [\"Day 00-03\", \"Day 06-09\", \"Day 12-15\", \"Day 18-21\", \"Day 24-27\"]\n",
    ")\n",
    "\n",
    "del filtered_data # remove from memory\n"
   ]
  },
  {
   "cell_type": "markdown",
   "id": "4b80c6ed",
   "metadata": {},
   "source": [
    "### Removing dead cells\n",
    "\n",
    "In the sample processsing protocols, some cells may start dying, and we probably want to exclude these from our analysis. Luckily high expression of mitochondrial genes can serve as a marker for cell death due to apoptosis.\n",
    "\n",
    "Goal would be to identify cells with unusually high mitochondrial gene expression and remove them from analysis."
   ]
  },
  {
   "cell_type": "code",
   "execution_count": 25,
   "id": "753dd841",
   "metadata": {},
   "outputs": [
    {
     "data": {
      "image/png": "[encoded data removed]",
      "text/plain": [
       "<Figure size 432x288 with 1 Axes>"
      ]
     },
     "metadata": {},
     "output_type": "display_data"
    }
   ],
   "source": [
    "scprep.plot.plot_gene_set_expression(data, starts_with=\"MT-\",\n",
    "                                     library_size_normalize=True,\n",
    "                                     title=\"Mitochrondrial expression before filtering\")\n",
    "sns.despine()"
   ]
  },
  {
   "cell_type": "code",
   "execution_count": 26,
   "id": "a7a8977a",
   "metadata": {},
   "outputs": [
    {
     "data": {
      "text/plain": [
       "(21460, 33694)"
      ]
     },
     "execution_count": 26,
     "metadata": {},
     "output_type": "execute_result"
    }
   ],
   "source": [
    "cutoff = 450\n",
    "\n",
    "data_filt, sample_labels = scprep.filter.filter_gene_set_expression(\n",
    "    data, sample_labels, starts_with=\"MT-\",\n",
    "    cutoff=cutoff, keep_cells='below', library_size_normalize=True)\n",
    "data_filt.shape"
   ]
  },
  {
   "cell_type": "markdown",
   "id": "a026c518",
   "metadata": {},
   "source": [
    "### Low expression genes\n",
    "\n",
    "Many genes are expressed in very few cells or not expressed in any cells at all; because there's so little information about them, it's difficult to make any statements based on those data. Makes sense again to exclude them"
   ]
  },
  {
   "cell_type": "code",
   "execution_count": 30,
   "id": "bf40b917",
   "metadata": {},
   "outputs": [],
   "source": [
    "cells_where_expressed = np.sum(data_filt>0, axis=0)   #summing along rows; how many cells is the gene expressed in?"
   ]
  },
  {
   "cell_type": "code",
   "execution_count": 33,
   "id": "28ddf125",
   "metadata": {},
   "outputs": [
    {
     "data": {
      "text/plain": [
       "Text(0, 0.5, 'How many genes')"
      ]
     },
     "execution_count": 33,
     "metadata": {},
     "output_type": "execute_result"
    },
    {
     "data": {
      "image/png": "[encoded data removed]",
      "text/plain": [
       "<Figure size 432x288 with 1 Axes>"
      ]
     },
     "metadata": {},
     "output_type": "display_data"
    }
   ],
   "source": [
    "plt.hist(np.log(cells_where_expressed+1), bins=40)\n",
    "plt.xlabel('log(Number of cells where expressed + 1')\n",
    "plt.ylabel('How many genes')"
   ]
  },
  {
   "cell_type": "code",
   "execution_count": 34,
   "id": "52784643",
   "metadata": {},
   "outputs": [],
   "source": [
    "cutoff = 5\n",
    "data_filt = scprep.filter.filter_rare_genes(data_filt, min_cells=cutoff)"
   ]
  },
  {
   "cell_type": "code",
   "execution_count": 36,
   "id": "19453a5a",
   "metadata": {},
   "outputs": [
    {
     "data": {
      "text/plain": [
       "(21460, 19655)"
      ]
     },
     "execution_count": 36,
     "metadata": {},
     "output_type": "execute_result"
    }
   ],
   "source": [
    "data_filt.shape"
   ]
  },
  {
   "cell_type": "markdown",
   "id": "cd515d0e",
   "metadata": {},
   "source": [
    "Over 10,000 genes have been excluded from analysis because they're barely present in the dataset"
   ]
  },
  {
   "cell_type": "markdown",
   "id": "c89c76db",
   "metadata": {},
   "source": [
    "### Normalization\n",
    "\n",
    "The library size (# UMIs/cell) can be quite variable, and comparison of counts across cells is not possible. So, we will have to normalize the number of UMIs/cell to a fixed number"
   ]
  },
  {
   "cell_type": "code",
   "execution_count": 37,
   "id": "9b911ed5",
   "metadata": {},
   "outputs": [],
   "source": [
    "data_norm, library_size = scprep.normalize.library_size_normalize(data_filt, return_library_size=True)"
   ]
  },
  {
   "cell_type": "code",
   "execution_count": 38,
   "id": "dddbcb00",
   "metadata": {},
   "outputs": [
    {
     "data": {
      "text/html": [
       "<div>\n",
       "<style scoped>\n",
       "    .dataframe tbody tr th:only-of-type {\n",
       "        vertical-align: middle;\n",
       "    }\n",
       "\n",
       "    .dataframe tbody tr th {\n",
       "        vertical-align: top;\n",
       "    }\n",
       "\n",
       "    .dataframe thead th {\n",
       "        text-align: right;\n",
       "    }\n",
       "</style>\n",
       "<table border=\"1\" class=\"dataframe\">\n",
       "  <thead>\n",
       "    <tr style=\"text-align: right;\">\n",
       "      <th></th>\n",
       "      <th>library_size</th>\n",
       "      <th>sample_labels</th>\n",
       "    </tr>\n",
       "  </thead>\n",
       "  <tbody>\n",
       "    <tr>\n",
       "      <th>AAACATACCAGAGG-1_Day 00-03</th>\n",
       "      <td>10387.0</td>\n",
       "      <td>Day 00-03</td>\n",
       "    </tr>\n",
       "    <tr>\n",
       "      <th>AAACATTGAAAGCA-1_Day 00-03</th>\n",
       "      <td>5738.0</td>\n",
       "      <td>Day 00-03</td>\n",
       "    </tr>\n",
       "    <tr>\n",
       "      <th>AAACATTGAAGTGA-1_Day 00-03</th>\n",
       "      <td>10007.0</td>\n",
       "      <td>Day 00-03</td>\n",
       "    </tr>\n",
       "    <tr>\n",
       "      <th>AAACATTGGAGGTG-1_Day 00-03</th>\n",
       "      <td>10231.0</td>\n",
       "      <td>Day 00-03</td>\n",
       "    </tr>\n",
       "    <tr>\n",
       "      <th>AAACATTGGTTTCT-1_Day 00-03</th>\n",
       "      <td>10389.0</td>\n",
       "      <td>Day 00-03</td>\n",
       "    </tr>\n",
       "  </tbody>\n",
       "</table>\n",
       "</div>"
      ],
      "text/plain": [
       "                            library_size sample_labels\n",
       "AAACATACCAGAGG-1_Day 00-03       10387.0     Day 00-03\n",
       "AAACATTGAAAGCA-1_Day 00-03        5738.0     Day 00-03\n",
       "AAACATTGAAGTGA-1_Day 00-03       10007.0     Day 00-03\n",
       "AAACATTGGAGGTG-1_Day 00-03       10231.0     Day 00-03\n",
       "AAACATTGGTTTCT-1_Day 00-03       10389.0     Day 00-03"
      ]
     },
     "execution_count": 38,
     "metadata": {},
     "output_type": "execute_result"
    }
   ],
   "source": [
    "#metadata containing info on library size and sample info (which timepoint)\n",
    "metadata = pd.concat([library_size, sample_labels], axis=1)\n",
    "metadata.head(5)"
   ]
  },
  {
   "cell_type": "markdown",
   "id": "4c2d061e",
   "metadata": {},
   "source": [
    "### Keeping most variable genes\n",
    "\n",
    "A lot of genes are housekeeping genes (involved in essential physiological processes that don't differ across cell types), and so their expression levels are likely the same. To make the amount of data we're working with more manageable, we can also restrict our analysis to genes that are most variable across the cells in the experiment."
   ]
  },
  {
   "cell_type": "code",
   "execution_count": 40,
   "id": "c82d6b6b",
   "metadata": {},
   "outputs": [
    {
     "data": {
      "image/png": "[encoded data removed]",
      "text/plain": [
       "<Figure size 432x288 with 1 Axes>"
      ]
     },
     "metadata": {},
     "output_type": "display_data"
    }
   ],
   "source": [
    "plt.hist(np.mean(data_norm, axis=0), bins=50)\n",
    "plt.xlabel('Counts/gene')\n",
    "plt.ylabel('Number of genes')\n",
    "plt.yscale('log')"
   ]
  },
  {
   "cell_type": "code",
   "execution_count": 41,
   "id": "a7864c58",
   "metadata": {},
   "outputs": [
    {
     "data": {
      "text/plain": [
       "Text(0.5, 1.0, 'log(x+1) transformed data')"
      ]
     },
     "execution_count": 41,
     "metadata": {},
     "output_type": "execute_result"
    },
    {
     "data": {
      "image/png": "[encoded data removed]",
      "text/plain": [
       "<Figure size 432x288 with 1 Axes>"
      ]
     },
     "metadata": {},
     "output_type": "display_data"
    }
   ],
   "source": [
    "#to avoid the distribution being so long-tailed, we can transform the data\n",
    "#option 1: log(counts+1)\n",
    "plt.hist(np.mean(np.log(data_norm+1), axis=0), bins=50)\n",
    "plt.xlabel('Counts/gene')\n",
    "plt.ylabel('Number of genes')\n",
    "plt.yscale('log')\n",
    "plt.title('log(x+1) transformed data')"
   ]
  },
  {
   "cell_type": "code",
   "execution_count": 42,
   "id": "8d7ca118",
   "metadata": {},
   "outputs": [
    {
     "data": {
      "text/plain": [
       "Text(0.5, 1.0, 'sqrt(x) transformed data')"
      ]
     },
     "execution_count": 42,
     "metadata": {},
     "output_type": "execute_result"
    },
    {
     "data": {
      "image/png": "[encoded data removed]",
      "text/plain": [
       "<Figure size 432x288 with 1 Axes>"
      ]
     },
     "metadata": {},
     "output_type": "display_data"
    }
   ],
   "source": [
    "#option 2: square root\n",
    "plt.hist(np.mean(np.sqrt(data_norm), axis=0), bins=50)\n",
    "plt.xlabel('Counts/gene')\n",
    "plt.ylabel('Number of genes')\n",
    "plt.yscale('log')\n",
    "plt.title('sqrt(x) transformed data')"
   ]
  },
  {
   "cell_type": "code",
   "execution_count": 46,
   "id": "ab0ad5b4",
   "metadata": {},
   "outputs": [
    {
     "data": {
      "text/plain": [
       "<AxesSubplot:xlabel='Gene mean', ylabel='Standardized variance'>"
      ]
     },
     "execution_count": 46,
     "metadata": {},
     "output_type": "execute_result"
    },
    {
     "data": {
      "image/png": "[encoded data removed]",
      "text/plain": [
       "<Figure size 432x288 with 1 Axes>"
      ]
     },
     "metadata": {},
     "output_type": "display_data"
    }
   ],
   "source": [
    "sqrt_data = np.sqrt(data_norm)\n",
    "#plotting the variability in the expression levels vs mean\n",
    "scprep.plot.plot_gene_variability(sqrt_data, percentile=90)\n"
   ]
  },
  {
   "cell_type": "code",
   "execution_count": null,
   "id": "85397875",
   "metadata": {},
   "outputs": [],
   "source": []
  }
 ],
 "metadata": {
  "kernelspec": {
   "display_name": "Python 3",
   "language": "python",
   "name": "python3"
  },
  "language_info": {
   "codemirror_mode": {
    "name": "ipython",
    "version": 3
   },
   "file_extension": ".py",
   "mimetype": "text/x-python",
   "name": "python",
   "nbconvert_exporter": "python",
   "pygments_lexer": "ipython3",
   "version": "3.9.12"
  }
 },
 "nbformat": 4,
 "nbformat_minor": 5
}
